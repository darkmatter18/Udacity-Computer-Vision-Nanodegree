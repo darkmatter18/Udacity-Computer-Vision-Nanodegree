{
 "cells": [
  {
   "cell_type": "markdown",
   "metadata": {
    "collapsed": true
   },
   "source": [
    "# Identity Matrix\n",
    "\n",
    "Write a function called identity_matrix that outputs an identity matrix of size n.\n",
    "\n",
    "INPUT\n",
    "* n - size of the Identity matrix\n",
    "\n",
    "OUPUT\n",
    "* identity matrix as a list of lists\n",
    "\n",
    "\n",
    "HINTS\n",
    "* nested for loops will be helpful\n",
    "* the one values are always on the diagonal. To access diagonal values in a list of lists will occur where i = j\n",
    "* whenever i does not equal j, the value in the matrix should be 0"
   ]
  },
  {
   "cell_type": "code",
   "execution_count": 1,
   "metadata": {},
   "outputs": [],
   "source": [
    "def identity_matrix(n):\n",
    "    \n",
    "    identity = []\n",
    "    \n",
    "    # TODO: Write a nested for loop to iterate over the rows and\n",
    "    # columns of the identity matrix. Remember that identity\n",
    "    # matrices are square so they have the same number of rows\n",
    "    # and columns\n",
    "    \n",
    "    # Make sure to assign 1 to the diagonal values and 0 everywhere\n",
    "    # else\n",
    "    for i in range(n):\n",
    "        row = []\n",
    "        for j in range(n):\n",
    "            if i == j:\n",
    "                row.append(1)\n",
    "            else:\n",
    "                row.append(0)\n",
    "        identity.append(row)\n",
    "    \n",
    "    return identity"
   ]
  },
  {
   "cell_type": "code",
   "execution_count": 2,
   "metadata": {},
   "outputs": [],
   "source": [
    "# TODO: Run this cell to see if your answers are as expected\n",
    "\n",
    "assert identity_matrix(1) == [[1]]\n",
    "\n",
    "assert identity_matrix(2) == [[1, 0], \n",
    "                             [0, 1]]\n",
    "\n",
    "assert identity_matrix(3) == [[1, 0, 0],\n",
    "                             [0, 1, 0],\n",
    "                             [0, 0, 1]]\n",
    "\n",
    "assert identity_matrix(4) == [[1, 0, 0, 0],\n",
    "                             [0, 1, 0, 0],\n",
    "                             [0, 0, 1, 0],\n",
    "                             [0, 0, 0, 1]]"
   ]
  },
  {
   "cell_type": "markdown",
   "metadata": {},
   "source": [
    "# Multiplication with the Identity Matrix\n",
    "\n",
    "Copy your matrix multiplication function in the code cell below. Try multiplying a matrix with an identity matrix to prove to yourself that the identity matrix is analogous to multiplyin a scalar by one."
   ]
  },
  {
   "cell_type": "code",
   "execution_count": 3,
   "metadata": {},
   "outputs": [],
   "source": [
    "def transpose(matrix):\n",
    "    matrix_transpose = [[ matrix[j][i] for j in range(len(matrix)) ] for i in range(len(matrix[0])) ]\n",
    "    return matrix_transpose"
   ]
  },
  {
   "cell_type": "code",
   "execution_count": 4,
   "metadata": {},
   "outputs": [],
   "source": [
    "def dot_product(vector_one, vector_two):\n",
    "    res = 0\n",
    "    for i in range(len(vector_one)):\n",
    "        res += (vector_one[i] * vector_two[i])\n",
    "    return res"
   ]
  },
  {
   "cell_type": "code",
   "execution_count": 5,
   "metadata": {},
   "outputs": [],
   "source": [
    "# TODO: Copy your matrix multiplication function and any other helper\n",
    "# funcitons here from the previous exercises\n",
    "\n",
    "def matrix_multiplication(matrixA, matrixB):\n",
    "    product = []\n",
    "    matrixB_t = transpose(matrixB)\n",
    "    for i in range(len(matrixA)):\n",
    "        row = []\n",
    "        for j in range(len(matrixB_t)):\n",
    "            row.append(dot_product(matrixA[i], matrixB_t[j]))\n",
    "        product.append(row)\n",
    "    ## TODO:\n",
    "    return product"
   ]
  },
  {
   "cell_type": "code",
   "execution_count": 6,
   "metadata": {},
   "outputs": [],
   "source": [
    "# TODO: Run this cell to see if your results are as expected.\n",
    "\n",
    "m = [[5, 9, 2, 4],\n",
    "     [3, 8, 5, 6],\n",
    "     [1, 0, 0, 15]]\n",
    "\n",
    "assert matrix_multiplication(m, identity_matrix(4)) == m\n",
    "assert matrix_multiplication(identity_matrix(3), m) == m"
   ]
  },
  {
   "cell_type": "code",
   "execution_count": null,
   "metadata": {},
   "outputs": [],
   "source": []
  }
 ],
 "metadata": {
  "kernelspec": {
   "display_name": "Python 3",
   "language": "python",
   "name": "python3"
  },
  "language_info": {
   "codemirror_mode": {
    "name": "ipython",
    "version": 3
   },
   "file_extension": ".py",
   "mimetype": "text/x-python",
   "name": "python",
   "nbconvert_exporter": "python",
   "pygments_lexer": "ipython3",
   "version": "3.6.3"
  }
 },
 "nbformat": 4,
 "nbformat_minor": 2
}
