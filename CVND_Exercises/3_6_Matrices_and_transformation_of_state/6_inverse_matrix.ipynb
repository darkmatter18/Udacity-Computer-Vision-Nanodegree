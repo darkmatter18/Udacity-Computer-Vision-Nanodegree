{
 "cells": [
  {
   "cell_type": "markdown",
   "metadata": {},
   "source": [
    "# Matrix Inverse\n",
    "\n",
    "In this exercise, you will write a function to calculate the inverse of either a 1x1 or a 2x2 matrix."
   ]
  },
  {
   "cell_type": "code",
   "execution_count": 11,
   "metadata": {},
   "outputs": [
    {
     "data": {
      "text/plain": [
       "[[-0.03225806451612903, 0.16129032258064516],\n",
       " [0.22580645161290322, -0.12903225806451613]]"
      ]
     },
     "execution_count": 11,
     "metadata": {},
     "output_type": "execute_result"
    }
   ],
   "source": [
    "### TODO: Write a function called inverse_matrix() that \n",
    "###       receives a matrix and outputs the inverse\n",
    "###       \n",
    "###       You are provided with start code that checks\n",
    "###       if the matrix is square and if not, throws an error\n",
    "###\n",
    "###       You will also need to check the size of the matrix.\n",
    "###       The formula for a 1x1 matrix and 2x2 matrix are different,\n",
    "###       so your solution will need to take this into account.\n",
    "###\n",
    "###       If the user inputs a non-invertible 2x2 matrix or a matrix\n",
    "###       of size 3 x 3 or greater, the function should raise an\n",
    "###       error. A non-invertible\n",
    "###       2x2 matrix has ad-bc = 0 as discussed in the lesson\n",
    "###\n",
    "###       Python has various options for raising errors\n",
    "###       raise RuntimeError('this is the error message')\n",
    "###       raise NotImplementedError('this functionality is not implemented')\n",
    "###       raise ValueError('The denominator of a fraction cannot be zero')\n",
    "\n",
    "def inverse_matrix(matrix):\n",
    "    \n",
    "    inverse = []\n",
    "    \n",
    "    if len(matrix) != len(matrix[0]):\n",
    "        raise ValueError('The matrix must be square')\n",
    "    \n",
    "    ## TODO: Check if matrix is larger than 2x2.\n",
    "    ## If matrix is too large, then raise an error\n",
    "    \n",
    "    ## TODO: Check if matrix is 1x1 or 2x2.\n",
    "    ## Depending on the matrix size, the formula for calculating\n",
    "    ## the inverse is different. \n",
    "    # If the matrix is 2x2, check that the matrix is invertible\n",
    "    if len(matrix) > 2:\n",
    "        raise NotImplementedError('this functionality is not implemented')\n",
    "    \n",
    "    if len(matrix) == 2:\n",
    "        d = matrix[0][0] * matrix[1][1] - matrix[0][1] * matrix[1][0]\n",
    "        if d == 0:\n",
    "            raise ValueError('The denominator of a fraction cannot be zero')\n",
    "        inverse = [[matrix[1][1]/d, -matrix[0][1]/d],\n",
    "                      [-matrix[1][0]/d, matrix[0][0]/d]]\n",
    "    if len(matrix) == 1:\n",
    "        d = matrix[0][0]\n",
    "        if d == 0:\n",
    "            raise ValueError('The denominator of a fraction cannot be zero')\n",
    "        inverse = [[1 / d]]\n",
    "\n",
    "    \n",
    "\n",
    "    ## TODO: Calculate the inverse of the square 1x1 or 2x2 matrix.\n",
    "    \n",
    "    return inverse\n",
    "    \n",
    "inverse_matrix([[4, 5], [7, 1]]) "
   ]
  },
  {
   "cell_type": "code",
   "execution_count": 12,
   "metadata": {},
   "outputs": [],
   "source": [
    "## TODO: Run this cell to check your output. If this cell does \n",
    "## not output anything your answers were as expected.\n",
    "\n",
    "assert inverse_matrix([[100]]) == [[0.01]]\n",
    "assert inverse_matrix([[4, 5], [7, 1]]) == [[-0.03225806451612903, 0.16129032258064516],\n",
    " [0.22580645161290322, -0.12903225806451613]]"
   ]
  },
  {
   "cell_type": "code",
   "execution_count": 13,
   "metadata": {},
   "outputs": [
    {
     "ename": "ValueError",
     "evalue": "The denominator of a fraction cannot be zero",
     "output_type": "error",
     "traceback": [
      "\u001b[0;31m---------------------------------------------------------------------------\u001b[0m",
      "\u001b[0;31mValueError\u001b[0m                                Traceback (most recent call last)",
      "\u001b[0;32m<ipython-input-13-a57ce83b3ae1>\u001b[0m in \u001b[0;36m<module>\u001b[0;34m()\u001b[0m\n\u001b[1;32m      1\u001b[0m \u001b[0;31m### Run this line of code and see what happens. Because ad = bc, this\u001b[0m\u001b[0;34m\u001b[0m\u001b[0;34m\u001b[0m\u001b[0m\n\u001b[1;32m      2\u001b[0m \u001b[0;31m### matrix does not have an inverse\u001b[0m\u001b[0;34m\u001b[0m\u001b[0;34m\u001b[0m\u001b[0m\n\u001b[0;32m----> 3\u001b[0;31m \u001b[0minverse_matrix\u001b[0m\u001b[0;34m(\u001b[0m\u001b[0;34m[\u001b[0m\u001b[0;34m[\u001b[0m\u001b[0;36m4\u001b[0m\u001b[0;34m,\u001b[0m \u001b[0;36m2\u001b[0m\u001b[0;34m]\u001b[0m\u001b[0;34m,\u001b[0m \u001b[0;34m[\u001b[0m\u001b[0;36m14\u001b[0m\u001b[0;34m,\u001b[0m \u001b[0;36m7\u001b[0m\u001b[0;34m]\u001b[0m\u001b[0;34m]\u001b[0m\u001b[0;34m)\u001b[0m\u001b[0;34m\u001b[0m\u001b[0m\n\u001b[0m",
      "\u001b[0;32m<ipython-input-11-36b6bffc8e55>\u001b[0m in \u001b[0;36minverse_matrix\u001b[0;34m(matrix)\u001b[0m\n\u001b[1;32m     39\u001b[0m         \u001b[0md\u001b[0m \u001b[0;34m=\u001b[0m \u001b[0mmatrix\u001b[0m\u001b[0;34m[\u001b[0m\u001b[0;36m0\u001b[0m\u001b[0;34m]\u001b[0m\u001b[0;34m[\u001b[0m\u001b[0;36m0\u001b[0m\u001b[0;34m]\u001b[0m \u001b[0;34m*\u001b[0m \u001b[0mmatrix\u001b[0m\u001b[0;34m[\u001b[0m\u001b[0;36m1\u001b[0m\u001b[0;34m]\u001b[0m\u001b[0;34m[\u001b[0m\u001b[0;36m1\u001b[0m\u001b[0;34m]\u001b[0m \u001b[0;34m-\u001b[0m \u001b[0mmatrix\u001b[0m\u001b[0;34m[\u001b[0m\u001b[0;36m0\u001b[0m\u001b[0;34m]\u001b[0m\u001b[0;34m[\u001b[0m\u001b[0;36m1\u001b[0m\u001b[0;34m]\u001b[0m \u001b[0;34m*\u001b[0m \u001b[0mmatrix\u001b[0m\u001b[0;34m[\u001b[0m\u001b[0;36m1\u001b[0m\u001b[0;34m]\u001b[0m\u001b[0;34m[\u001b[0m\u001b[0;36m0\u001b[0m\u001b[0;34m]\u001b[0m\u001b[0;34m\u001b[0m\u001b[0m\n\u001b[1;32m     40\u001b[0m         \u001b[0;32mif\u001b[0m \u001b[0md\u001b[0m \u001b[0;34m==\u001b[0m \u001b[0;36m0\u001b[0m\u001b[0;34m:\u001b[0m\u001b[0;34m\u001b[0m\u001b[0m\n\u001b[0;32m---> 41\u001b[0;31m             \u001b[0;32mraise\u001b[0m \u001b[0mValueError\u001b[0m\u001b[0;34m(\u001b[0m\u001b[0;34m'The denominator of a fraction cannot be zero'\u001b[0m\u001b[0;34m)\u001b[0m\u001b[0;34m\u001b[0m\u001b[0m\n\u001b[0m\u001b[1;32m     42\u001b[0m         inverse = [[matrix[1][1]/d, -matrix[0][1]/d],\n\u001b[1;32m     43\u001b[0m                       [-matrix[1][0]/d, matrix[0][0]/d]]\n",
      "\u001b[0;31mValueError\u001b[0m: The denominator of a fraction cannot be zero"
     ]
    }
   ],
   "source": [
    "### Run this line of code and see what happens. Because ad = bc, this\n",
    "### matrix does not have an inverse\n",
    "inverse_matrix([[4, 2], [14, 7]])"
   ]
  },
  {
   "cell_type": "code",
   "execution_count": 14,
   "metadata": {},
   "outputs": [
    {
     "ename": "NotImplementedError",
     "evalue": "this functionality is not implemented",
     "output_type": "error",
     "traceback": [
      "\u001b[0;31m---------------------------------------------------------------------------\u001b[0m",
      "\u001b[0;31mNotImplementedError\u001b[0m                       Traceback (most recent call last)",
      "\u001b[0;32m<ipython-input-14-b67f26ad65f4>\u001b[0m in \u001b[0;36m<module>\u001b[0;34m()\u001b[0m\n\u001b[1;32m      1\u001b[0m \u001b[0;31m### Run this line of code and see what happens. This is a 3x3 matrix\u001b[0m\u001b[0;34m\u001b[0m\u001b[0;34m\u001b[0m\u001b[0m\n\u001b[0;32m----> 2\u001b[0;31m \u001b[0minverse_matrix\u001b[0m\u001b[0;34m(\u001b[0m\u001b[0;34m[\u001b[0m\u001b[0;34m[\u001b[0m\u001b[0;36m4\u001b[0m\u001b[0;34m,\u001b[0m \u001b[0;36m5\u001b[0m\u001b[0;34m,\u001b[0m \u001b[0;36m1\u001b[0m\u001b[0;34m]\u001b[0m\u001b[0;34m,\u001b[0m \u001b[0;34m[\u001b[0m\u001b[0;36m2\u001b[0m\u001b[0;34m,\u001b[0m \u001b[0;36m9\u001b[0m\u001b[0;34m,\u001b[0m \u001b[0;36m7\u001b[0m\u001b[0;34m]\u001b[0m\u001b[0;34m,\u001b[0m \u001b[0;34m[\u001b[0m\u001b[0;36m6\u001b[0m\u001b[0;34m,\u001b[0m \u001b[0;36m3\u001b[0m\u001b[0;34m,\u001b[0m \u001b[0;36m9\u001b[0m\u001b[0;34m]\u001b[0m\u001b[0;34m]\u001b[0m\u001b[0;34m)\u001b[0m\u001b[0;34m\u001b[0m\u001b[0m\n\u001b[0m",
      "\u001b[0;32m<ipython-input-11-36b6bffc8e55>\u001b[0m in \u001b[0;36minverse_matrix\u001b[0;34m(matrix)\u001b[0m\n\u001b[1;32m     34\u001b[0m     \u001b[0;31m# If the matrix is 2x2, check that the matrix is invertible\u001b[0m\u001b[0;34m\u001b[0m\u001b[0;34m\u001b[0m\u001b[0m\n\u001b[1;32m     35\u001b[0m     \u001b[0;32mif\u001b[0m \u001b[0mlen\u001b[0m\u001b[0;34m(\u001b[0m\u001b[0mmatrix\u001b[0m\u001b[0;34m)\u001b[0m \u001b[0;34m>\u001b[0m \u001b[0;36m2\u001b[0m\u001b[0;34m:\u001b[0m\u001b[0;34m\u001b[0m\u001b[0m\n\u001b[0;32m---> 36\u001b[0;31m         \u001b[0;32mraise\u001b[0m \u001b[0mNotImplementedError\u001b[0m\u001b[0;34m(\u001b[0m\u001b[0;34m'this functionality is not implemented'\u001b[0m\u001b[0;34m)\u001b[0m\u001b[0;34m\u001b[0m\u001b[0m\n\u001b[0m\u001b[1;32m     37\u001b[0m \u001b[0;34m\u001b[0m\u001b[0m\n\u001b[1;32m     38\u001b[0m     \u001b[0;32mif\u001b[0m \u001b[0mlen\u001b[0m\u001b[0;34m(\u001b[0m\u001b[0mmatrix\u001b[0m\u001b[0;34m)\u001b[0m \u001b[0;34m==\u001b[0m \u001b[0;36m2\u001b[0m\u001b[0;34m:\u001b[0m\u001b[0;34m\u001b[0m\u001b[0m\n",
      "\u001b[0;31mNotImplementedError\u001b[0m: this functionality is not implemented"
     ]
    }
   ],
   "source": [
    "### Run this line of code and see what happens. This is a 3x3 matrix\n",
    "inverse_matrix([[4, 5, 1], [2, 9, 7], [6, 3, 9]])"
   ]
  },
  {
   "cell_type": "code",
   "execution_count": null,
   "metadata": {},
   "outputs": [],
   "source": []
  }
 ],
 "metadata": {
  "kernelspec": {
   "display_name": "Python 3",
   "language": "python",
   "name": "python3"
  },
  "language_info": {
   "codemirror_mode": {
    "name": "ipython",
    "version": 3
   },
   "file_extension": ".py",
   "mimetype": "text/x-python",
   "name": "python",
   "nbconvert_exporter": "python",
   "pygments_lexer": "ipython3",
   "version": "3.6.3"
  }
 },
 "nbformat": 4,
 "nbformat_minor": 2
}
