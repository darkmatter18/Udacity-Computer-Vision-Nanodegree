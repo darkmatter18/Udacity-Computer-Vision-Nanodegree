{
 "cells": [
  {
   "cell_type": "markdown",
   "metadata": {},
   "source": [
    "# Becoming \"Wikipedia proficient\"\n",
    "\n",
    "The goal of this course is **not** for you to memorize how to calculate a dot product or multiply matrices. The goal is for you to be able to do something useful with a wikipedia page like their [article on Kalman Filters](https://en.wikipedia.org/wiki/Kalman_filter), even if requires some additional research and review from you.\n",
    "\n",
    "But these pages are usually written in the notation of **linear algebra** and not the notation of computer programming. \n",
    "\n",
    "In this notebook you will learn something about how to navigate the notation of linear algebra and how to translate it into computer code. "
   ]
  },
  {
   "cell_type": "markdown",
   "metadata": {},
   "source": [
    "## Analyzing The Dot Product Equation\n",
    "At the time I'm writing this, the wikipedia article on the [dot product](https://en.wikipedia.org/wiki/Dot_product) begins with a section called **Algebraic Definition**, which starts like this:\n",
    "\n",
    "> The dot product of two vectors $\\mathbf{a} = [a_1, a_2, \\ldots, a_n]$ and $\\mathbf{b} = [b_1, b_2, \\ldots, b_n]$ is defined as: \n",
    "> \n",
    "> $$\\mathbf{a} \\cdot \\mathbf{b} = \\sum _{i=1}^{n}a_{i}b_{i}=a_{1}b_{1}+a_{2}b_{2}+\\cdots +a_{n}b_{n}$$\n",
    "\n",
    "If you don't know what to look for, this can be pretty unhelfpul. Let's take a look at three features of this equation which can be helpful to understand...\n",
    "\n",
    "### Feature 1 - Lowercase vs uppercase variables\n",
    "This equation only uses lowercase variables. In general, lowercase variables are used when discussing **vectors** or **scalars** (regular numbers like 3, -2.5, etc...) while UPPERCASE variables are reserved for matrices. \n",
    "\n",
    "### Feature 2 - Bold vs regular typeface for variables\n",
    "A variable in **bold** typeface indicates a vector or a matrix. A variable in regular typeface is a scalar.\n",
    "\n",
    "\n",
    "### Feature 3 - \"...\" in equations\n",
    "When you see three dots $\\ldots$ in an equation it means \"this pattern could continue any number of times\"\n",
    "\n",
    "#### EXAMPLE 1 - APPLYING FEATURES 1, 2, and 3\n",
    "When you see something like $\\mathbf{a} = [a_1, a_2, \\ldots, a_n]$ you can infer the following:\n",
    "\n",
    "1. **$\\mathbf{a}$ is a vector**: since a is bold it's either a vector OR a matrix, but since it's also lowercase, we know it can only be a vector.\n",
    "\n",
    "2. **$\\mathbf{a}$ can have any length**: since there's a $\\ldots$ in the definition for $\\mathbf{a}$, we know that in addition to $a_1$ and $a_2$ there could also be $a_3$, $a_4$, and so on... \n",
    "\n",
    "3. **The values in the $\\mathbf{a}$ vector are scalars**: since $a_1$ is lowercase and non-bold we know that it must be a scalar (regular number) as opposed to being a vector or matrix."
   ]
  },
  {
   "cell_type": "markdown",
   "metadata": {},
   "source": [
    "### Feature 4 - $\\Sigma$ Notation\n",
    "The symbol $\\Sigma$ is the uppercase version of the greek letter \"sigma\" and it is an instruction to perform a sum.\n",
    "\n",
    "**When you see a $\\Sigma$ you should think \"for loop!\"**\n",
    "\n",
    "In the case of the dot product, the sigma instructs us to sum $a_ib_i$ for $i=1,2, \\ldots, n$. And in this case $n$ is just the length of the $\\mathbf{a}$ and $\\mathbf{b}$ vectors.\n",
    "\n",
    "How this for loop works is best explained with an example. Take a look at the `dot_product` function defined below. Try to read through the comments and really understand how the code connects to math.\n"
   ]
  },
  {
   "cell_type": "markdown",
   "metadata": {},
   "source": [
    "**The MATH**\n",
    "\n",
    "The dot product of two vectors $\\mathbf{a} = [a_1, a_2, \\ldots, a_n]$ and $\\mathbf{b} = [b_1, b_2, \\ldots, b_n]$ is defined as: \n",
    "\n",
    "$$\\mathbf{a} \\cdot \\mathbf{b} = \\sum _{i=1}^{n}a_{i}b_{i}=a_{1}b_{1}+a_{2}b_{2}+\\cdots +a_{n}b_{n}$$"
   ]
  },
  {
   "cell_type": "code",
   "execution_count": 1,
   "metadata": {},
   "outputs": [],
   "source": [
    "# The CODE\n",
    "\n",
    "def dot_product(a, b):\n",
    "    # start by checking that a and b have the same length.\n",
    "    # I know they SHOULD have the same length because they\n",
    "    # each are DEFINED (in the first line above) to have n \n",
    "    # elements. Even though n isn't specified, the fact that \n",
    "    # a goes from 0 to n AND b does the same (instead of going\n",
    "    # from 0 to m for example) implies that these vectors \n",
    "    # always should have the same length.\n",
    "    if len(a) != len(b):\n",
    "        print(\"Error! Vectors must have the same length!\")\n",
    "        return None\n",
    "    \n",
    "    # let's call the length of these vectors \"n\" so we can\n",
    "    # be consistent with the mathematical notation\n",
    "    n = len(a)\n",
    "    \n",
    "    # Since we want to add up a bunch of terms, we should\n",
    "    # start by setting the total to zero and then add to \n",
    "    # this total n times.\n",
    "    total = 0\n",
    "    \n",
    "    # now we are going to perform the multiplication!\n",
    "    # note that the algebraic version goes from 1 to n. \n",
    "    # The Python version of this indexing will go from \n",
    "    # 0 to n-1 (recall that range(3) returns [0,1,2] for example).\n",
    "    for i in range(n): \n",
    "        a_i = a[i]\n",
    "        b_i = b[i]\n",
    "        total = total + a_i * b_i\n",
    "        \n",
    "    return total\n",
    "\n"
   ]
  },
  {
   "cell_type": "code",
   "execution_count": 2,
   "metadata": {},
   "outputs": [
    {
     "name": "stdout",
     "output_type": "stream",
     "text": [
      "52\n"
     ]
    }
   ],
   "source": [
    "# let's see if it works\n",
    "a = [3,2,4]\n",
    "b = [2,5,9]\n",
    "\n",
    "# a*b should be 3*2 + 2*5 + 4*9\n",
    "# or...           6 +  10 +  36 \n",
    "#                            52\n",
    "\n",
    "a_dot_b = dot_product(a,b)\n",
    "print(a_dot_b)"
   ]
  },
  {
   "cell_type": "code",
   "execution_count": null,
   "metadata": {
    "collapsed": true
   },
   "outputs": [],
   "source": []
  }
 ],
 "metadata": {
  "kernelspec": {
   "display_name": "Python 3",
   "language": "python",
   "name": "python3"
  },
  "language_info": {
   "codemirror_mode": {
    "name": "ipython",
    "version": 3
   },
   "file_extension": ".py",
   "mimetype": "text/x-python",
   "name": "python",
   "nbconvert_exporter": "python",
   "pygments_lexer": "ipython3",
   "version": "3.6.3"
  }
 },
 "nbformat": 4,
 "nbformat_minor": 2
}
