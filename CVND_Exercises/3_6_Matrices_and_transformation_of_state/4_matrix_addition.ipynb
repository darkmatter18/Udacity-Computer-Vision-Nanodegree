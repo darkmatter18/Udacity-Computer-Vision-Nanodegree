{
 "cells": [
  {
   "cell_type": "markdown",
   "metadata": {},
   "source": [
    "# Matrix Addition\n",
    "\n",
    "In this exercises, you will write a function that accepts two matrices and outputs their sum. Think about how you could do this with a for loop nested inside another for loop."
   ]
  },
  {
   "cell_type": "code",
   "execution_count": 1,
   "metadata": {},
   "outputs": [
    {
     "data": {
      "text/plain": [
       "[[9, 24, 6.1],\n",
       " [12.5, 18.2, 14.8],\n",
       " [4.8, 2.5, 13],\n",
       " [16, 10, 6],\n",
       " [4, 2, 12],\n",
       " [7, 36, 2]]"
      ]
     },
     "execution_count": 1,
     "metadata": {},
     "output_type": "execute_result"
    }
   ],
   "source": [
    "### TODO: Write a function called matrix_addition that \n",
    "###     calculate the sum of two matrices\n",
    "###\n",
    "### INPUTS:\n",
    "###    matrix A _ an m x n matrix\n",
    "###    matrix B _ an m x n matrix\n",
    "###\n",
    "### OUPUT:\n",
    "###   matrixSum _ sum of matrix A + matrix B\n",
    "\n",
    "def matrix_addition(matrixA, matrixB):\n",
    "\n",
    "    # initialize matrix to hold the results\n",
    "    matrixSum = []\n",
    "    \n",
    "    # matrix to hold a row for appending sums of each element\n",
    "    # row = []\n",
    "    \n",
    "    # TODO: write a for loop within a for loop to iterate over\n",
    "    # the matrices\n",
    "    \n",
    "    # TODO: As you iterate through the matrices, add matching\n",
    "    # elements and append the sum to the row variable\n",
    "    \n",
    "    # TODO: When a row is filled, append the row to matrixSum. \n",
    "    # Then reinitialize row as an empty list\n",
    "    \n",
    "    for i in range(len(matrixA)):\n",
    "        row = []\n",
    "        for j in range(len(matrixA[i])):\n",
    "            row.append(matrixA[i][j] + matrixB[i][j])\n",
    "        matrixSum.append(row)\n",
    "            \n",
    "    \n",
    "    return matrixSum\n",
    "\n",
    "### When you run this code cell, your matrix addition function\n",
    "### will run on the A and B matrix.\n",
    "\n",
    "A = [\n",
    "    [2,5,1], \n",
    "    [6,9,7.4], \n",
    "    [2,1,1], \n",
    "    [8,5,3], \n",
    "    [2,1,6], \n",
    "    [5,3,1]\n",
    "]\n",
    "\n",
    "B = [\n",
    "    [7, 19, 5.1], \n",
    "    [6.5,9.2,7.4], \n",
    "    [2.8,1.5,12], \n",
    "    [8,5,3], \n",
    "    [2,1,6], \n",
    "    [2,33,1]\n",
    "]\n",
    "\n",
    "matrix_addition(A, B)"
   ]
  },
  {
   "cell_type": "markdown",
   "metadata": {},
   "source": [
    "### Vectors versus Matrices\n",
    "\n",
    "What happens if you run the cell below? Here you are adding two vectors together. Does your code still work?"
   ]
  },
  {
   "cell_type": "code",
   "execution_count": 2,
   "metadata": {},
   "outputs": [
    {
     "ename": "TypeError",
     "evalue": "object of type 'int' has no len()",
     "output_type": "error",
     "traceback": [
      "\u001b[0;31m---------------------------------------------------------------------------\u001b[0m",
      "\u001b[0;31mTypeError\u001b[0m                                 Traceback (most recent call last)",
      "\u001b[0;32m<ipython-input-2-61a622f3c730>\u001b[0m in \u001b[0;36m<module>\u001b[0;34m()\u001b[0m\n\u001b[0;32m----> 1\u001b[0;31m \u001b[0mmatrix_addition\u001b[0m\u001b[0;34m(\u001b[0m\u001b[0;34m[\u001b[0m\u001b[0;36m4\u001b[0m\u001b[0;34m,\u001b[0m \u001b[0;36m2\u001b[0m\u001b[0;34m,\u001b[0m \u001b[0;36m1\u001b[0m\u001b[0;34m]\u001b[0m\u001b[0;34m,\u001b[0m \u001b[0;34m[\u001b[0m\u001b[0;36m5\u001b[0m\u001b[0;34m,\u001b[0m \u001b[0;36m2\u001b[0m\u001b[0;34m,\u001b[0m \u001b[0;36m7\u001b[0m\u001b[0;34m]\u001b[0m\u001b[0;34m)\u001b[0m\u001b[0;34m\u001b[0m\u001b[0m\n\u001b[0m",
      "\u001b[0;32m<ipython-input-1-a67d19d821cc>\u001b[0m in \u001b[0;36mmatrix_addition\u001b[0;34m(matrixA, matrixB)\u001b[0m\n\u001b[1;32m     28\u001b[0m     \u001b[0;32mfor\u001b[0m \u001b[0mi\u001b[0m \u001b[0;32min\u001b[0m \u001b[0mrange\u001b[0m\u001b[0;34m(\u001b[0m\u001b[0mlen\u001b[0m\u001b[0;34m(\u001b[0m\u001b[0mmatrixA\u001b[0m\u001b[0;34m)\u001b[0m\u001b[0;34m)\u001b[0m\u001b[0;34m:\u001b[0m\u001b[0;34m\u001b[0m\u001b[0m\n\u001b[1;32m     29\u001b[0m         \u001b[0mrow\u001b[0m \u001b[0;34m=\u001b[0m \u001b[0;34m[\u001b[0m\u001b[0;34m]\u001b[0m\u001b[0;34m\u001b[0m\u001b[0m\n\u001b[0;32m---> 30\u001b[0;31m         \u001b[0;32mfor\u001b[0m \u001b[0mj\u001b[0m \u001b[0;32min\u001b[0m \u001b[0mrange\u001b[0m\u001b[0;34m(\u001b[0m\u001b[0mlen\u001b[0m\u001b[0;34m(\u001b[0m\u001b[0mmatrixA\u001b[0m\u001b[0;34m[\u001b[0m\u001b[0mi\u001b[0m\u001b[0;34m]\u001b[0m\u001b[0;34m)\u001b[0m\u001b[0;34m)\u001b[0m\u001b[0;34m:\u001b[0m\u001b[0;34m\u001b[0m\u001b[0m\n\u001b[0m\u001b[1;32m     31\u001b[0m             \u001b[0mrow\u001b[0m\u001b[0;34m.\u001b[0m\u001b[0mappend\u001b[0m\u001b[0;34m(\u001b[0m\u001b[0mmatrixA\u001b[0m\u001b[0;34m[\u001b[0m\u001b[0mi\u001b[0m\u001b[0;34m]\u001b[0m\u001b[0;34m[\u001b[0m\u001b[0mj\u001b[0m\u001b[0;34m]\u001b[0m \u001b[0;34m+\u001b[0m \u001b[0mmatrixB\u001b[0m\u001b[0;34m[\u001b[0m\u001b[0mi\u001b[0m\u001b[0;34m]\u001b[0m\u001b[0;34m[\u001b[0m\u001b[0mj\u001b[0m\u001b[0;34m]\u001b[0m\u001b[0;34m)\u001b[0m\u001b[0;34m\u001b[0m\u001b[0m\n\u001b[1;32m     32\u001b[0m         \u001b[0mmatrixSum\u001b[0m\u001b[0;34m.\u001b[0m\u001b[0mappend\u001b[0m\u001b[0;34m(\u001b[0m\u001b[0mrow\u001b[0m\u001b[0;34m)\u001b[0m\u001b[0;34m\u001b[0m\u001b[0m\n",
      "\u001b[0;31mTypeError\u001b[0m: object of type 'int' has no len()"
     ]
    }
   ],
   "source": [
    "matrix_addition([4, 2, 1], [5, 2, 7])"
   ]
  },
  {
   "cell_type": "markdown",
   "metadata": {},
   "source": [
    "Why did this error occur? Because your code assumes that a matrix is a two-dimensional grid represented by a list of lists. But a horizontal vector, which can also be considered a matrix, is a one-dimensional grid represented by a single list.\n",
    "\n",
    "What happens if you store a vector as a list of lists like [[4, 2, 1]] and [[5, 2, 7]]? Does your function work? Run the code cell below to find out."
   ]
  },
  {
   "cell_type": "code",
   "execution_count": 3,
   "metadata": {},
   "outputs": [
    {
     "data": {
      "text/plain": [
       "[[9, 4, 8]]"
      ]
     },
     "execution_count": 3,
     "metadata": {},
     "output_type": "execute_result"
    }
   ],
   "source": [
    "matrix_addition([[4, 2, 1]], [[5, 2, 7]])"
   ]
  },
  {
   "cell_type": "markdown",
   "metadata": {},
   "source": [
    "### Test your Code\n",
    "Run the cell below. If there is no output, then your results are as expected."
   ]
  },
  {
   "cell_type": "code",
   "execution_count": 4,
   "metadata": {},
   "outputs": [],
   "source": [
    "assert matrix_addition([\n",
    "    [1, 2, 3]], \n",
    "    [[4, 5, 6]]) == [[5, 7, 9]]\n",
    "\n",
    "assert matrix_addition([\n",
    "    [4]], [\n",
    "    [5]]) == [[9]]\n",
    "\n",
    "assert matrix_addition([[1, 2, 3], \n",
    "                        [4, 5, 6]], \n",
    "                       [[7, 8, 9], \n",
    "                        [10, 11, 12]]) == [[8, 10, 12], \n",
    "                                           [14, 16, 18]]"
   ]
  },
  {
   "cell_type": "code",
   "execution_count": null,
   "metadata": {},
   "outputs": [],
   "source": []
  }
 ],
 "metadata": {
  "kernelspec": {
   "display_name": "Python 3",
   "language": "python",
   "name": "python3"
  },
  "language_info": {
   "codemirror_mode": {
    "name": "ipython",
    "version": 3
   },
   "file_extension": ".py",
   "mimetype": "text/x-python",
   "name": "python",
   "nbconvert_exporter": "python",
   "pygments_lexer": "ipython3",
   "version": "3.6.3"
  }
 },
 "nbformat": 4,
 "nbformat_minor": 2
}
