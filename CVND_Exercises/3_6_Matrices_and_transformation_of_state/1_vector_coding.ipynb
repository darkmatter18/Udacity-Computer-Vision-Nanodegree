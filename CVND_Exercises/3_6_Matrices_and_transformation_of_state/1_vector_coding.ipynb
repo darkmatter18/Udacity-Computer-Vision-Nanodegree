{
 "cells": [
  {
   "cell_type": "markdown",
   "metadata": {},
   "source": [
    "# Vectors in Python\n",
    "\n",
    "In the following exercises, you will work on coding vectors in Python.\n",
    "\n",
    "Assume that you have a state vector \n",
    "$$\\mathbf{x_0}$$\n",
    "\n",
    "representing the x position, y position, velocity in the x direction, and velocity in the y direction of a car that is driving in front of your vehicle. You are tracking the other vehicle.\n",
    "\n",
    "Currently, the other vehicle is 5 meters ahead of you along your x-axis, 2 meters to your left along your y-axis, driving 10 m/s in the x direction and 0 m/s in the y-direction. How would you represent this in a Python list where the vector contains `<x, y, vx, vy>` in exactly that order?  \n",
    "\n",
    "\n",
    "### Vector Assignment: Example 1"
   ]
  },
  {
   "cell_type": "code",
   "execution_count": 1,
   "metadata": {},
   "outputs": [],
   "source": [
    "## Practice working with Python vectors\n",
    "\n",
    "## TODO: Assume the state vector contains values for <x, y, vx, vy>\n",
    "## Currently, x = 5, y = 2, vx = 10, vy = 0\n",
    "## Represent this information in a list\n",
    "x0 = [5, 2, 10, 0]\n"
   ]
  },
  {
   "cell_type": "markdown",
   "metadata": {},
   "source": [
    "### Test your code\n",
    "\n",
    "Run the cell below to test your code. \n",
    "\n",
    "The test code uses a Python assert statement. If you have a code statement that resolves to either True or False, an assert statement will either:\n",
    "* do nothing if the statement is True\n",
    "* throw an error if the statement is False\n",
    "\n",
    "\n",
    "A Python assert statement\n",
    "will output an error if the answer was not as expected. If the\n",
    "answer was as expected, then nothing will be outputted."
   ]
  },
  {
   "cell_type": "code",
   "execution_count": 2,
   "metadata": {},
   "outputs": [],
   "source": [
    "### Test Cases \n",
    "### Run these test cases to see if your results are as expected\n",
    "### Running this cell should produce no output if all assertions are True\n",
    "\n",
    "assert x0 == [5, 2, 10, 0]"
   ]
  },
  {
   "cell_type": "markdown",
   "metadata": {},
   "source": [
    "### Vector Assignment: Example 2\n",
    "\n",
    "The vehicle ahead of you has now moved farther away from you. You know that the vehicle has moved 3 meters forward in the x-direction, 5 meters forward in the y-direction, has increased its x velocity by 2 m/s and has increased its y velocity by 5 m/s. \n",
    "\n",
    "Store the change in position and velocity in a list variable called xdelta"
   ]
  },
  {
   "cell_type": "code",
   "execution_count": 4,
   "metadata": {},
   "outputs": [],
   "source": [
    "## TODO: Assign the change in position and velocity to the variable\n",
    "## xdelta. Remember that the order of the vector is x, y, vx, vy\n",
    "\n",
    "xdelta = [3, 5, 2, 5]"
   ]
  },
  {
   "cell_type": "code",
   "execution_count": 5,
   "metadata": {},
   "outputs": [],
   "source": [
    "### Test Case \n",
    "### Run this test case to see if your results are as expected\n",
    "### Running this cell should produce no output if all assertions are True\n",
    "\n",
    "assert xdelta == [3, 5, 2, 5]"
   ]
  },
  {
   "cell_type": "markdown",
   "metadata": {},
   "source": [
    "### Vector Math: Addition\n",
    "\n",
    "Calculate the tracked vehicle's new position and velocity. Here are the steps you need to carry this out:\n",
    "\n",
    "* initialize an empty list called x1\n",
    "* add xdelta to x0 using a for loop\n",
    "* store your results in x1 as you iterate through the for loop using the append method"
   ]
  },
  {
   "cell_type": "code",
   "execution_count": 6,
   "metadata": {},
   "outputs": [],
   "source": [
    "## TODO: Add the vectors together element-wise. For example, \n",
    "## element-wise addition of [2, 6] and [10, 3] is [12, 9].\n",
    "## Place the answer in the x1 variable. \n",
    "##\n",
    "## Hint: You can use a for loop. The append method might also\n",
    "## be helpful.\n",
    "\n",
    "x1 = []\n",
    "\n",
    "for i in range(len(x0)):\n",
    "    x1.append(xdelta[i] + x0[i])"
   ]
  },
  {
   "cell_type": "code",
   "execution_count": 7,
   "metadata": {},
   "outputs": [],
   "source": [
    "### Test Case \n",
    "### Run this test case to see if your results are as expected\n",
    "### Running this cell should produce no output if all assertions are True\n",
    "assert x1 == [8, 7, 12, 5]"
   ]
  },
  {
   "cell_type": "markdown",
   "metadata": {},
   "source": [
    "### Vector Math: Scalar Multiplication\n",
    "\n",
    "You have your current position in meters and current velocity in meters per second. But you need to report your results at a company meeting where most people will only be familiar with working in feet rather than meters. Convert your position vector x1 to feet and feet/second.\n",
    "\n",
    "This will involve scalar multiplication. The process for coding scalar multiplication is very similar to vector addition. You will need to:\n",
    "* initialize an empty list\n",
    "* use a for loop to access each element in the vector\n",
    "* multiply each element by the scalar\n",
    "* append the result to the empty list"
   ]
  },
  {
   "cell_type": "code",
   "execution_count": 8,
   "metadata": {},
   "outputs": [],
   "source": [
    "## TODO: Multiply each element in the x1 vector by the conversion\n",
    "## factor shown belowand store the results in the variable s. \n",
    "## Use a for loop\n",
    "\n",
    "meters_to_feet = 1.0 / 0.3048\n",
    "x1feet =[]\n",
    "for val in x1:\n",
    "    x1feet.append(val * meters_to_feet)"
   ]
  },
  {
   "cell_type": "code",
   "execution_count": 9,
   "metadata": {},
   "outputs": [],
   "source": [
    "### Test Cases\n",
    "### Run this test case to see if your results are as expected\n",
    "### Running this cell should produce no output if all assertions are True\n",
    "x1feet_sol = [8/.3048, 7/.3048, 12/.3048, 5/.3048]\n",
    "\n",
    "assert(len(x1feet) == len(x1feet_sol)) \n",
    "for response, expected in zip(x1feet, x1feet_sol):\n",
    "    assert(abs(response-expected) < 0.001)"
   ]
  },
  {
   "cell_type": "markdown",
   "metadata": {},
   "source": [
    "### Vector Math: Dot Product\n",
    "\n",
    "The tracked vehicle is currently at the state represented by \n",
    "$$\\mathbf{x_1} = [8, 7, 12, 5] $$.\n",
    "\n",
    "Where will the vehicle be in two seconds?\n",
    "\n",
    "You could actually solve this problem very quickly using Matrix multiplication, but we have not covered that yet. Instead, think about the x-direction and y-direction separately and how you could do this with the dot product.\n",
    "\n",
    "#### Solving with the Dot Product\n",
    "You know that the tracked vehicle at x1 is 8m ahead of you in the x-direction and traveling at 12m/s. Assuming constant velocity, the new x-position after 2 seconds would be\n",
    "\n",
    "$$8 + 12*2 = 32$$\n",
    "\n",
    "The new y-position would be\n",
    "$$7 + 5*2 = 17$$\n",
    "\n",
    "You could actually solve each of these equations using the dot product:\n",
    "\n",
    "$$x_2 = [8, 7, 12, 5]\\cdot[1, 0, 2, 0] \\\\\\ \n",
    "= 8\\times1 + 7\\times0 + 12\\times2 + 5\\times0 \\\\\\\n",
    "= 32$$\n",
    "\n",
    "$$y_2 = [8, 7, 12, 5]\\cdot[0, 1, 0, 2] \\\\\\ \n",
    "= 8\\times0 + 7\\times1 + 12\\times0 + 5\\times2 \\\\\\\n",
    "= 17$$\n",
    "\n",
    "Since you are assuming constant velocity, the final state vector would be \n",
    "\n",
    "$$\\mathbf{x_2} = [32, 17, 12, 5]$$\n",
    "\n",
    "#### Coding the Dot Product\n",
    "\n",
    "Now, calculate the state vector $$\\mathbf{x_2}$$ but with code. You will need to calculate the dot product of two vectors. Rather than writing the dot product code for the x-direction and then copying the code for the y-direction, write a function that calculates the dot product of two Python lists.\n",
    "\n",
    "Here is an outline of the steps:\n",
    "* initialize an empty list\n",
    "* initialize a variable with value zero to accumulate the sum\n",
    "* use a for loop to iterate through the vectors. Assume the two vectors have the same length\n",
    "* accumulate the sum as you multiply elements together\n",
    "\n",
    "You will see in the starter code that x2 is already being calculated for you based on the results of your dotproduct function"
   ]
  },
  {
   "cell_type": "code",
   "execution_count": 12,
   "metadata": {},
   "outputs": [],
   "source": [
    "## TODO: Fill in the dotproduct() function to calculate the \n",
    "## dot product of two vectors.\n",
    "##\n",
    "\n",
    "## Here are the inputs and outputs of the dotproduct() function:\n",
    "##     INPUTS: vector, vector\n",
    "##     OUTPUT: dot product of the two vectors\n",
    "##         \n",
    "##\n",
    "## The dot product involves mutliplying the vectors element\n",
    "## by element and then taking the sum of the results\n",
    "##\n",
    "## For example, the dot product of [9, 7, 5] and [2, 3, 4] is \n",
    "## 9*2+7*3 +5*4 = 59\n",
    "## \n",
    "## Hint: You can use a for loop. You will also need to accumulate\n",
    "## the sum as you iterate through the vectors. In Python, you can accumulate \n",
    "## sums with syntax like w = w + 1\n",
    "\n",
    "x2 = []\n",
    "\n",
    "def dotproduct(vectora, vectorb):\n",
    "    \n",
    "    # variable for accumulating the sum\n",
    "    result = 0\n",
    "    \n",
    "    # TODO: Use a for loop to multiply the two vectors\n",
    "    # element by element. Accumulate the sum in the result variable\n",
    "    for i in range(len(vectora)):\n",
    "        result += vectora[i] * vectorb[i]\n",
    "    \n",
    "    return result\n",
    "    \n",
    "x2 = [dotproduct([8, 7, 12, 5], [1, 0, 2, 0]), \n",
    "      dotproduct([8, 7, 12, 5], [0, 1, 0, 2]),\n",
    "      12,\n",
    "      5]"
   ]
  },
  {
   "cell_type": "code",
   "execution_count": 13,
   "metadata": {},
   "outputs": [],
   "source": [
    "### Test Case\n",
    "### Run this test case to see if your results are as expected\n",
    "### Running this cell should produce no output if all assertions are True\n",
    "assert x2 == [32, 17, 12, 5]"
   ]
  },
  {
   "cell_type": "code",
   "execution_count": null,
   "metadata": {},
   "outputs": [],
   "source": []
  }
 ],
 "metadata": {
  "kernelspec": {
   "display_name": "Python 3",
   "language": "python",
   "name": "python3"
  },
  "language_info": {
   "codemirror_mode": {
    "name": "ipython",
    "version": 3
   },
   "file_extension": ".py",
   "mimetype": "text/x-python",
   "name": "python",
   "nbconvert_exporter": "python",
   "pygments_lexer": "ipython3",
   "version": "3.6.3"
  }
 },
 "nbformat": 4,
 "nbformat_minor": 2
}
