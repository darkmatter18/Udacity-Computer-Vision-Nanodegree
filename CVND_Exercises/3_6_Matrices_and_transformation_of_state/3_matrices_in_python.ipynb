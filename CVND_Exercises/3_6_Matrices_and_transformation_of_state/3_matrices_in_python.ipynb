{
 "cells": [
  {
   "cell_type": "markdown",
   "metadata": {},
   "source": [
    "## Coding Matrices\n",
    "\n",
    "Here are a few exercises to get you started with coding matrices. The exercises start off with vectors and then get more challenging\n",
    "\n",
    "### Vectors"
   ]
  },
  {
   "cell_type": "code",
   "execution_count": 1,
   "metadata": {},
   "outputs": [],
   "source": [
    "### TODO: Assign the vector <5, 10, 2, 6, 1> to the variable v\n",
    "v = [5, 10, 2, 6, 1]"
   ]
  },
  {
   "cell_type": "markdown",
   "metadata": {},
   "source": [
    "The v variable contains a Python list. This list could also be thought of as a 1x5 matrix with 1 row and 5 columns. How would you represent this list as a matrix?"
   ]
  },
  {
   "cell_type": "code",
   "execution_count": 9,
   "metadata": {},
   "outputs": [],
   "source": [
    "### TODO: Assign the vector <5, 10, 2, 6, 1> to the variable mv\n",
    "### The difference between a vector and a matrix in Python is that\n",
    "### a matrix is a list of lists.\n",
    "\n",
    "### Hint: See the last quiz on the previous page\n",
    "\n",
    "mv = [v]"
   ]
  },
  {
   "cell_type": "markdown",
   "metadata": {},
   "source": [
    "How would you represent this vector in its vertical form with 5 rows and 1 column? When defining matrices in Python, each row is a list. So in this case, you have 5 rows and thus will need 5 lists.\n",
    "\n",
    "As an example, this is what the vector $$<5, 7>$$ would look like as a 1x2 matrix in Python: \n",
    "```python\n",
    "matrix1by2 = [\n",
    "    [5, 7]\n",
    "]\n",
    "```\n",
    "\n",
    "And here is what the same vector would look like as a 2x1 matrix:\n",
    "```python\n",
    "matrix2by1 = [\n",
    "    [5], \n",
    "    [7]\n",
    "]\n",
    "```"
   ]
  },
  {
   "cell_type": "code",
   "execution_count": 10,
   "metadata": {},
   "outputs": [],
   "source": [
    "### TODO: Assign the vector <5, 10, 2, 6, 1> to the variable vT\n",
    "### vT is a 5x1 matrix\n",
    "vT = [[5], [10], 2, 6, 1]"
   ]
  },
  {
   "cell_type": "markdown",
   "metadata": {},
   "source": [
    "### Assigning Matrices to Variables"
   ]
  },
  {
   "cell_type": "code",
   "execution_count": 11,
   "metadata": {},
   "outputs": [],
   "source": [
    "### TODO: Assign the following matrix to the variable m\n",
    "### 8 7 1 2 3\n",
    "### 1 5 2 9 0\n",
    "### 8 2 2 4 1\n",
    "\n",
    "m = [[8, 7, 1, 2, 3,],\n",
    "    [1, 5, 2, 9, 0],\n",
    "    [8, 2, 2, 4, 1]]"
   ]
  },
  {
   "cell_type": "markdown",
   "metadata": {},
   "source": [
    "### Accessing Matrix Values"
   ]
  },
  {
   "cell_type": "code",
   "execution_count": 12,
   "metadata": {},
   "outputs": [],
   "source": [
    "### TODO: In matrix m, change the value \n",
    "###       in the second row last column from 0 to 5\n",
    "### Hint: You do not need to rewrite the entire matrix\n",
    "m[1][-1] = 5"
   ]
  },
  {
   "cell_type": "markdown",
   "metadata": {},
   "source": [
    "### Looping through Matrices to do Math\n",
    "\n",
    "Coding mathematical operations with matrices can be tricky. Because matrices are lists of lists, you will need to use a for loop inside another for loop. The outside for loop iterates over the rows and the inside for loop iterates over the columns.\n",
    "\n",
    "\n",
    "Here is some pseudo code\n",
    "```python\n",
    "for i in number of rows:\n",
    "    for j in number of columns:\n",
    "         mymatrix[i][j]\n",
    "```\n",
    "\n",
    "To figure out how many times to loop over the matrix, you need to know the number of rows and number of columns. \n",
    "\n",
    "\n",
    "If you have a variable with a matrix in it, how could you figure out the number of rows? How could you figure out the number of columns? The [len](https://docs.python.org/2/library/functions.html#len) function in Python might be helpful."
   ]
  },
  {
   "cell_type": "markdown",
   "metadata": {},
   "source": [
    "### Scalar Multiplication"
   ]
  },
  {
   "cell_type": "code",
   "execution_count": 13,
   "metadata": {},
   "outputs": [],
   "source": [
    "### TODO: Use for loops to multiply each matrix element by 5\n",
    "###       Store the answer in the r variable. This is called scalar\n",
    "###       multiplication\n",
    "###\n",
    "### HINT: First write a for loop that iterates through the rows\n",
    "###       one row at a time\n",
    "###\n",
    "###       Then write another for loop within the for loop that\n",
    "###       iterates through the columns\n",
    "###\n",
    "###       If you used the variable i to represent rows and j\n",
    "###       to represent columns, then m[i][j] would give you\n",
    "###       access to each element in the matrix\n",
    "###\n",
    "###       Because r is an empty list, you cannot directly assign\n",
    "###       a value like r[i][j] = m[i][j]. You might have to\n",
    "###       work on one row at a time and then use r.append(row).\n",
    "r = []\n",
    "\n",
    "for i in range(len(m)):\n",
    "    temp = []\n",
    "    for j in range(len(m[0])):\n",
    "        temp.append(m[i][j] * 5)\n",
    "    r.append(temp)"
   ]
  },
  {
   "cell_type": "markdown",
   "metadata": {},
   "source": [
    "### Printing Out a Matrix"
   ]
  },
  {
   "cell_type": "code",
   "execution_count": 14,
   "metadata": {},
   "outputs": [],
   "source": [
    "### TODO: Write a function called matrix_print() \n",
    "###       that prints out a matrix in\n",
    "###       a way that is easy to read.\n",
    "###       Each element in a row should be separated by a tab\n",
    "###       And each row should have its own line\n",
    "###       You can test our your results with the m matrix\n",
    "\n",
    "### HINT: You can use a for loop within a for loop\n",
    "### In Python, the print() function will be useful\n",
    "### print(5, '\\t', end = '') will print out the integer 5, \n",
    "###    then add a tab after the 5. The end = '' makes sure that\n",
    "###    the print function does not print out a new line if you do\n",
    "###    not want a new line.\n",
    "\n",
    "### Your output should look like this\n",
    "### 8   7   1   2   3    \n",
    "### 1   5   2   9   5 \n",
    "### 8   2   2   4   1\n",
    "\n",
    "def matrix_print(matrix):\n",
    "    return\n",
    "\n",
    "m = [\n",
    "    [8, 7, 1, 2, 3],\n",
    "    [1, 5, 2, 9, 5],\n",
    "    [8, 2, 2, 4, 1]\n",
    "]\n",
    "\n",
    "matrix_print(m)"
   ]
  },
  {
   "cell_type": "markdown",
   "metadata": {},
   "source": [
    "### Test Your Results"
   ]
  },
  {
   "cell_type": "code",
   "execution_count": 15,
   "metadata": {},
   "outputs": [
    {
     "ename": "AssertionError",
     "evalue": "",
     "output_type": "error",
     "traceback": [
      "\u001b[0;31m---------------------------------------------------------------------------\u001b[0m",
      "\u001b[0;31mAssertionError\u001b[0m                            Traceback (most recent call last)",
      "\u001b[0;32m<ipython-input-15-0f2c1042daa1>\u001b[0m in \u001b[0;36m<module>\u001b[0;34m()\u001b[0m\n\u001b[1;32m     12\u001b[0m     \u001b[0;34m[\u001b[0m\u001b[0;36m2\u001b[0m\u001b[0;34m]\u001b[0m\u001b[0;34m,\u001b[0m\u001b[0;34m\u001b[0m\u001b[0m\n\u001b[1;32m     13\u001b[0m     \u001b[0;34m[\u001b[0m\u001b[0;36m6\u001b[0m\u001b[0;34m]\u001b[0m\u001b[0;34m,\u001b[0m\u001b[0;34m\u001b[0m\u001b[0m\n\u001b[0;32m---> 14\u001b[0;31m     [1]]\n\u001b[0m\u001b[1;32m     15\u001b[0m \u001b[0;34m\u001b[0m\u001b[0m\n\u001b[1;32m     16\u001b[0m assert m == [\n",
      "\u001b[0;31mAssertionError\u001b[0m: "
     ]
    }
   ],
   "source": [
    "### You can run these tests to see if you have the expected\n",
    "### results. If everything is correct, this cell has no output\n",
    "\n",
    "assert v == [5, 10, 2, 6, 1]\n",
    "assert mv == [\n",
    "    [5, 10, 2, 6, 1]\n",
    "]\n",
    "\n",
    "assert vT == [\n",
    "    [5], \n",
    "    [10], \n",
    "    [2], \n",
    "    [6], \n",
    "    [1]]\n",
    "\n",
    "assert m == [\n",
    "    [8, 7, 1, 2, 3], \n",
    "    [1, 5, 2, 9, 5], \n",
    "    [8, 2, 2, 4, 1]\n",
    "]\n",
    "\n",
    "assert r == [\n",
    "    [40, 35, 5, 10, 15], \n",
    "    [5, 25, 10, 45, 25], \n",
    "    [40, 10, 10, 20, 5]\n",
    "]"
   ]
  },
  {
   "cell_type": "markdown",
   "metadata": {},
   "source": [
    "### Print Out Your Results"
   ]
  },
  {
   "cell_type": "code",
   "execution_count": null,
   "metadata": {
    "collapsed": true
   },
   "outputs": [],
   "source": [
    "### Run this cell to print out your answers\n",
    "print(v)\n",
    "print(mv)\n",
    "print(vT)\n",
    "print(m)\n",
    "print(r)"
   ]
  }
 ],
 "metadata": {
  "kernelspec": {
   "display_name": "Python 3",
   "language": "python",
   "name": "python3"
  },
  "language_info": {
   "codemirror_mode": {
    "name": "ipython",
    "version": 3
   },
   "file_extension": ".py",
   "mimetype": "text/x-python",
   "name": "python",
   "nbconvert_exporter": "python",
   "pygments_lexer": "ipython3",
   "version": "3.6.3"
  }
 },
 "nbformat": 4,
 "nbformat_minor": 2
}
