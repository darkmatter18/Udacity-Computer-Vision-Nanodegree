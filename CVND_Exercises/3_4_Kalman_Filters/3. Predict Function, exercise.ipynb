{
 "cells": [
  {
   "cell_type": "markdown",
   "metadata": {},
   "source": [
    "# Predict Function\n",
    "\n",
    "After performing a parameter update, which is done after some new measurement is collected, the next step is to incorporate motion into our Gaussian calculations. Recall that, as we estimate the location of a robot or self-driving car:\n",
    "* the measurement update *increases* our estimation certainty\n",
    "* the motion update/prediction *decreases* our certainty\n",
    "\n",
    "That is because every motion has some chance of under or overshooting its goal, and since motion is not exact, we end up losing some certainty about our exact location after each motion.\n",
    "\n",
    "Let's take the formulas from the example below and use them to write a program that takes in a mean and a motion and squared variances for both of those quantities, and returns a *new*, updated mean and variance for a new gaussian. This step is called the **motion update** or the predict step.\n",
    "\n",
    "<img src='images/motion_update.png' width=\"50%\" height=\"50%\">\n"
   ]
  },
  {
   "cell_type": "markdown",
   "metadata": {},
   "source": [
    "Below is our usual Gaussian equation and imports."
   ]
  },
  {
   "cell_type": "code",
   "execution_count": 1,
   "metadata": {},
   "outputs": [],
   "source": [
    "# import math functions\n",
    "from math import *\n",
    "import matplotlib.pyplot as plt\n",
    "import numpy as np\n",
    "\n",
    "# gaussian function\n",
    "def f(mu, sigma2, x):\n",
    "    ''' f takes in a mean and squared variance, and an input x\n",
    "       and returns the gaussian value.'''\n",
    "    coefficient = 1.0 / sqrt(2.0 * pi *sigma2)\n",
    "    exponential = exp(-0.5 * (x-mu) ** 2 / sigma2)\n",
    "    return coefficient * exponential\n",
    " "
   ]
  },
  {
   "cell_type": "markdown",
   "metadata": {},
   "source": [
    "For convenience, you've also been given the complete `update` code that performs a parameter update when an initial belief and new measurement information are merged."
   ]
  },
  {
   "cell_type": "code",
   "execution_count": 2,
   "metadata": {},
   "outputs": [],
   "source": [
    "# the update function\n",
    "def update(mean1, var1, mean2, var2):\n",
    "    ''' This function takes in two means and two squared variance terms,\n",
    "        and returns updated gaussian parameters.'''\n",
    "    # Calculate the new parameters\n",
    "    new_mean = (var2*mean1 + var1*mean2)/(var2+var1)\n",
    "    new_var = 1/(1/var2 + 1/var1)\n",
    "    \n",
    "    return [new_mean, new_var]"
   ]
  },
  {
   "cell_type": "markdown",
   "metadata": {},
   "source": [
    "### QUIZ: Write a `predict` function that returns new values for the mean and squared variance of a Gaussian after a motion.\n",
    "\n",
    "This function should take in parameters for an initial belief and motion and perform the measurement update as seen in the image at the top of this notebook."
   ]
  },
  {
   "cell_type": "code",
   "execution_count": 3,
   "metadata": {},
   "outputs": [],
   "source": [
    "# the motion update/predict function\n",
    "def predict(mean1, var1, mean2, var2):\n",
    "    ''' This function takes in two means and two squared variance terms,\n",
    "        and returns updated gaussian parameters, after motion.'''\n",
    "    ## TODO: Calculate the new parameters\n",
    "    new_mean = mean1 + mean2\n",
    "    new_var = var1 + var2\n",
    "    \n",
    "    return [new_mean, new_var]"
   ]
  },
  {
   "cell_type": "code",
   "execution_count": 4,
   "metadata": {},
   "outputs": [
    {
     "name": "stdout",
     "output_type": "stream",
     "text": [
      "[22, 8]\n"
     ]
    }
   ],
   "source": [
    "# test your implementation\n",
    "new_params = predict(10, 4, 12, 4)\n",
    "print(new_params)"
   ]
  },
  {
   "cell_type": "markdown",
   "metadata": {},
   "source": [
    "### Plot a Gaussian\n",
    "\n",
    "Plot a Gaussian by looping through a range of x values and creating a resulting list of Gaussian values, `g`, as shown below. You're encouraged to see what happens if you change the values of `mu` and `sigma2`."
   ]
  },
  {
   "cell_type": "code",
   "execution_count": 5,
   "metadata": {},
   "outputs": [
    {
     "data": {
      "text/plain": [
       "[<matplotlib.lines.Line2D at 0x7f6528228630>]"
      ]
     },
     "execution_count": 5,
     "metadata": {},
     "output_type": "execute_result"
    },
    {
     "data": {
      "image/png": "[encoded data removed]",
      "text/plain": [
       "<matplotlib.figure.Figure at 0x7f652a24b3c8>"
      ]
     },
     "metadata": {
      "needs_background": "light"
     },
     "output_type": "display_data"
    }
   ],
   "source": [
    "# display a gaussian over a range of x values\n",
    "# define the parameters\n",
    "mu = new_params[0]\n",
    "sigma2 = new_params[1]\n",
    "\n",
    "# define a range of x values\n",
    "x_axis = np.arange(0, 40, 0.1)\n",
    "\n",
    "# create a corresponding list of gaussian values\n",
    "g = []\n",
    "for x in x_axis:\n",
    "    g.append(f(mu, sigma2, x))\n",
    "\n",
    "# plot the result \n",
    "plt.plot(x_axis, g)"
   ]
  },
  {
   "cell_type": "code",
   "execution_count": null,
   "metadata": {},
   "outputs": [],
   "source": []
  }
 ],
 "metadata": {
  "kernelspec": {
   "display_name": "Python 3",
   "language": "python",
   "name": "python3"
  },
  "language_info": {
   "codemirror_mode": {
    "name": "ipython",
    "version": 3
   },
   "file_extension": ".py",
   "mimetype": "text/x-python",
   "name": "python",
   "nbconvert_exporter": "python",
   "pygments_lexer": "ipython3",
   "version": "3.6.3"
  }
 },
 "nbformat": 4,
 "nbformat_minor": 2
}
